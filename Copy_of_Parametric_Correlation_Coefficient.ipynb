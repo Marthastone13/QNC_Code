{
  "nbformat": 4,
  "nbformat_minor": 0,
  "metadata": {
    "colab": {
      "provenance": [],
      "collapsed_sections": []
    },
    "kernelspec": {
      "name": "python3",
      "display_name": "Python 3"
    },
    "language_info": {
      "name": "python"
    }
  },
  "cells": [
    {
      "cell_type": "code",
      "execution_count": 5,
      "metadata": {
        "id": "x2oT58hktmWB",
        "colab": {
          "base_uri": "https://localhost:8080/",
          "height": 297
        },
        "outputId": "65808542-a822-4106-b527-ecf21d8c7656"
      },
      "outputs": [
        {
          "output_type": "stream",
          "name": "stdout",
          "text": [
            "It appears from this plot that wing length and tail length may be positively correlated\n"
          ]
        },
        {
          "output_type": "display_data",
          "data": {
            "text/plain": [
              "<Figure size 432x288 with 1 Axes>"
            ],
            "image/png": "[encoded data removed]"
          },
          "metadata": {
            "needs_background": "light"
          }
        }
      ],
      "source": [
        "import numpy as np\n",
        "import matplotlib.pyplot as plt\n",
        "import scipy.stats as st\n",
        "\n",
        "wing_length =[10.4, 10.8, 11.1, 10.2, 10.3, 10.2, 10.7, 10.5, 10.8, 11.2, 10.6, 11.4]\n",
        "tail_length = [7.4, 7.6, 7.9, 7.2, 7.4, 7.1, 7.4, 7.2, 7.8, 7.7, 7.8, 8.3]\n",
        "\n",
        "plt.scatter(wing_length, tail_length)\n",
        "plt.xlabel('wing length')\n",
        "plt.ylabel('tail length')\n",
        "\n",
        "print(f'It appears from this plot that wing length and tail length may be positively correlated')\n"
      ]
    },
    {
      "cell_type": "code",
      "source": [
        "mean_wing = np.mean(wing_length)\n",
        "mean_tail = np.mean(tail_length)\n",
        "\n",
        "xi_minus_x = np.subtract(wing_length, mean_wing)\n",
        "yi_minus_y = np.subtract(tail_length, mean_tail)\n",
        "\n",
        "xi_minus_x_squared = xi_minus_x ** 2\n",
        "yi_minus_y_squared = yi_minus_y ** 2\n",
        "\n",
        "x_y = xi_minus_x * yi_minus_y\n",
        "\n",
        "sqrt_x = np.sqrt(xi_minus_x_squared)\n",
        "sqrt_y = np.sqrt(yi_minus_y_squared)\n",
        "\n",
        "#failing to actually code this"
      ],
      "metadata": {
        "id": "0W_oadxqzNrj"
      },
      "execution_count": 11,
      "outputs": []
    },
    {
      "cell_type": "code",
      "source": [
        "corr_coef = np.corrcoef(wing_length, tail_length)\n",
        "print(f'The Pearson correlation coeffcient is = {corr_coef}')"
      ],
      "metadata": {
        "colab": {
          "base_uri": "https://localhost:8080/"
        },
        "id": "y7iQIQN8x-dB",
        "outputId": "f311823b-4009-44c7-919d-13b4e8addd59"
      },
      "execution_count": 19,
      "outputs": [
        {
          "output_type": "stream",
          "name": "stdout",
          "text": [
            "The Pearson correlation coeffcient is = [[1.         0.87035456]\n",
            " [0.87035456 1.        ]]\n"
          ]
        }
      ]
    },
    {
      "cell_type": "code",
      "source": [
        "n = 12\n",
        "pearson = 0.87035456\n",
        "standard_error = np.sqrt((1 - pearson **2)/ (n - 2))\n",
        "\n",
        "print(f'The standard error is = {standard_error}')\n",
        "\n",
        "z = 0.5 * np.log((1+pearson)/(1-pearson))\n",
        "\n",
        "stdev_z = np.sqrt(1/(n-3))\n",
        "z_criterion = 1.96\n",
        "\n",
        "confidence = z_criterion * stdev_z\n",
        "\n",
        "print(f'95% confidence interval is {z} +/- {confidence} ')"
      ],
      "metadata": {
        "colab": {
          "base_uri": "https://localhost:8080/"
        },
        "id": "CZ2KGzE-VayE",
        "outputId": "e8f76305-5a12-4d73-8cbc-85c6fe3b00fb"
      },
      "execution_count": 15,
      "outputs": [
        {
          "output_type": "stream",
          "name": "stdout",
          "text": [
            "The standard error is = 0.15571863725553417\n",
            "95% confidence interval is 1.3345399782019196 +/- 0.6533333333333333 \n"
          ]
        }
      ]
    }
  ]
}