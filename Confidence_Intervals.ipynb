{
  "cells": [
    {
      "cell_type": "markdown",
      "metadata": {
        "id": "NsBF2Mp553uQ"
      },
      "source": [
        "[![Open In Colab](https://colab.research.google.com/assets/colab-badge.svg)](https://colab.research.google.com/github/PennNGG/Quantitative-Neuroscience/blob/master/Answers%20to%20Exercises/Python/BinomialExerciseAnswers.ipynb)"
      ]
    },
    {
      "cell_type": "code",
      "source": [
        "import numpy as np\n",
        "import random\n",
        "import collections\n",
        "import matplotlib.pyplot as plt\n",
        "import time\n",
        "import scipy.stats as st\n",
        "from numpy import matlib\n",
        "\n",
        "mean = 10\n",
        "sd = 2\n",
        "n = [5, 10, 20, 40, 80, 160, 1000]\n",
        "sem = sd / np.sqrt(n)\n",
        "\n",
        "#1\n",
        "print(f'   #1 The simple, analytic approach with large n and/or known standard deviation')\n",
        "\n",
        "confidence_interval_1 = 1.96 * (sd / np.sqrt(n))\n",
        "\n",
        "for A, B  in zip(n, confidence_interval_1):\n",
        "    print(f'For n ={A:2d}: the 95% confidence interval of the mean = 10 +/- {B:.2f}')\n",
        "\n",
        "#2\n",
        "print(f'   #2 The simple, analytic approach with small n and unknown population standard deviation')\n",
        "\n",
        "df = [x - 1 for x in n]\n",
        "q = 1 - .025\n",
        "t = st.t.ppf(q=q, df=df)\n",
        "\n",
        "confidence_interval_2 = t * (sd / np.sqrt(n))\n",
        "\n",
        "for A, B  in zip(n, confidence_interval_2):\n",
        "    print(f'For n ={A:2d}: the 95% confidence interval of the mean = 10 +/- {B:.2f}')\n",
        "\n",
        "#3\n",
        "print(f'   #3 Bootstrapped confidence intervals')\n",
        "print(f'Uncle!!!')\n",
        "\n",
        "#x = np.random.normal(mean, sd, n) # running this part crashes jupyter notebook! i give up\n",
        "\n",
        "#for A, B  in zip(n, confidence_interval_3):\n",
        "    #print(f'For n ={A:2d}: the 95% confidence interval of the mean = 10 +/- {B:.2f}')\n",
        "\n",
        "#4\n",
        "print(f'   #4 Bayesian credible intervals')\n",
        "print(f'As Josh wrote, \"the credible interval is computed in exactly the same way as the confidence interval computed analytically from the sample mean and standard error of the mean described above\"')\n",
        "\n"
      ],
      "metadata": {
        "colab": {
          "base_uri": "https://localhost:8080/"
        },
        "id": "9jwwsOp56EI5",
        "outputId": "d69d8b53-9afa-4f83-8794-eb4fe2e4efdd"
      },
      "execution_count": 3,
      "outputs": [
        {
          "output_type": "stream",
          "name": "stdout",
          "text": [
            "   #1 The simple, analytic approach with large n and/or known standard deviation\n",
            "For n = 5: the 95% confidence interval of the mean = 10 +/- 1.75\n",
            "For n =10: the 95% confidence interval of the mean = 10 +/- 1.24\n",
            "For n =20: the 95% confidence interval of the mean = 10 +/- 0.88\n",
            "For n =40: the 95% confidence interval of the mean = 10 +/- 0.62\n",
            "For n =80: the 95% confidence interval of the mean = 10 +/- 0.44\n",
            "For n =160: the 95% confidence interval of the mean = 10 +/- 0.31\n",
            "For n =1000: the 95% confidence interval of the mean = 10 +/- 0.12\n",
            "   #2 The simple, analytic approach with small n and unknown population standard deviation\n",
            "For n = 5: the 95% confidence interval of the mean = 10 +/- 2.48\n",
            "For n =10: the 95% confidence interval of the mean = 10 +/- 1.43\n",
            "For n =20: the 95% confidence interval of the mean = 10 +/- 0.94\n",
            "For n =40: the 95% confidence interval of the mean = 10 +/- 0.64\n",
            "For n =80: the 95% confidence interval of the mean = 10 +/- 0.45\n",
            "For n =160: the 95% confidence interval of the mean = 10 +/- 0.31\n",
            "For n =1000: the 95% confidence interval of the mean = 10 +/- 0.12\n",
            "   #3 Bootstrapped confidence intervals\n",
            "Uncle!!!\n",
            "   #4 Bayesian credible intervals\n",
            "As Josh wrote, \"the credible interval is computed in exactly the same way as the confidence interval computed analytically from the sample mean and standard error of the mean described above\"\n"
          ]
        }
      ]
    },
    {
      "cell_type": "markdown",
      "metadata": {
        "id": "VveIEEiyLUSk"
      },
      "source": [
        "## Exercise 1\n",
        "Assume that there are 10 quanta available in a nerve terminal, and for a given release event each is released with a probability of 0.2. For one such event, what is the probability that 0, 1, 2, 3, 4, 5, 6, 7, 8, 9, or 10 quanta will be released?"
      ]
    },
    {
      "cell_type": "code",
      "execution_count": null,
      "metadata": {
        "colab": {
          "base_uri": "https://localhost:8080/"
        },
        "id": "DoMjurXtLV7n",
        "outputId": "815806d7-234f-4d02-d384-ac6866ecefec"
      },
      "outputs": [
        {
          "name": "stdout",
          "output_type": "stream",
          "text": [
            "k= 0: p=0.11\n",
            "k= 1: p=0.27\n",
            "k= 2: p=0.30\n",
            "k= 3: p=0.20\n",
            "k= 4: p=0.09\n",
            "k= 5: p=0.03\n",
            "k= 6: p=0.01\n",
            "k= 7: p=0.00\n",
            "k= 8: p=0.00\n",
            "k= 9: p=0.00\n",
            "k=10: p=0.00\n"
          ]
        }
      ],
      "source": [
        "# Answer to Exercise 1\n",
        "n = 10                          # Number of available quanta\n",
        "pRelease = 0.2                  # Release probabilty \n",
        "k = np.arange(11)               # Possible values of k (measured events)\n",
        "probs = binom.pmf(k,n,pRelease) # Array of probabilities of obtaining those values of k, given n and prelease\n",
        "\n",
        "# Print it nicely\n",
        "for A, B in zip(k, probs):\n",
        "    print(f'k={A:2d}: p={B:.2f}')"
      ]
    },
    {
      "cell_type": "markdown",
      "metadata": {
        "id": "eG7Kvl5pL4jf"
      },
      "source": [
        "## Exercise 2\n",
        "Let's say you know that a given nerve terminal contains exactly 14 quanta available for release. You have read in the literature that the release probability of these quanta is low, say 0.1. To assess whether this value is reasonable, you run a simple experiment: activate the nerve and measure the number of quanta that are released. The result is 8 quanta. What is the probability that you would get this result (8 quanta) if the true probability of release really was 0.1? What about if the true release probability was much higher; say, 0.7? What about for each decile of release probability (0.1, 0.2, ... 1.0)? Which value of release probability did you determine to be the most probable, given your measurement?\n",
        "\n",
        "Note: here you are computing a likelihood function: a function describing how the value of the conditional probability *p*(*data* | *parameters*) changes when you hold your data fixed to the value(s) you measured and vary the value(s) of the parameter(s) of, in this case, the binomial distribution. Because you are varying the parameters and not the data, the values of the function are not expected to sum to one (e.g., you can have numerous parameters that have a very high probability of producing the given data) and thus this function is not a probability distribution (see [here](https://www.psychologicalscience.org/observer/bayes-for-beginners-probability-and-likelihood) for an extended discussion). The maximum value of this function is called the maximum likelihood. "
      ]
    },
    {
      "cell_type": "code",
      "execution_count": null,
      "metadata": {
        "colab": {
          "base_uri": "https://localhost:8080/"
        },
        "id": "dLFrZKl3Mt12",
        "outputId": "538afe1e-1967-424d-eaee-63f6a2f48b40"
      },
      "outputs": [
        {
          "name": "stdout",
          "output_type": "stream",
          "text": [
            "p=0.1: binomial probability=0.0000\n",
            "p=0.2: binomial probability=0.0020\n",
            "p=0.3: binomial probability=0.0232\n",
            "p=0.4: binomial probability=0.0918\n",
            "p=0.5: binomial probability=0.1833\n",
            "p=0.6: binomial probability=0.2066\n",
            "p=0.7: binomial probability=0.1262\n",
            "p=0.8: binomial probability=0.0322\n",
            "p=0.9: binomial probability=0.0013\n"
          ]
        }
      ],
      "source": [
        "# Answer to Exercise 2\n",
        "n = 14  # Number of available quanta\n",
        "k = 8   # Measured number of released quanta\n",
        "\n",
        "# Compute the pmf from a range of p values from 0.1 to 1.0 in 0.1-size steps\n",
        "ps = np.arange(0.1, 1.0, 0.1)\n",
        "probs = [binom.pmf(k,n,x) for x in ps]\n",
        "\n",
        "# Print it nicely\n",
        "for A, B in zip(ps, probs):\n",
        "    print(f'p={A:.1f}: binomial probability={B:.4f}')"
      ]
    },
    {
      "cell_type": "markdown",
      "metadata": {
        "id": "-INGaYFtM-Cp"
      },
      "source": [
        "## Exercise 3\n",
        "\n",
        "Not feeling convinced by your single experiment (good scientist!), you repeat it under identical conditions. This time you measure 5 quanta that were released. Your sample size has now doubled, to two measurements. You now want to take into account both measurements when you assess the likelihoods of different possible values of the underlying release probability. To do so, assume that the two measurements in this sample are independent of one another; that is, the value of each result had no bearing on the other. In this case, the total likelihood is simply the product of the likelihoods associated with each separate measurement. It is also typical to compute the logarithm of each likelihood and take their sum, which is often more convenient. What are the values of the total likelihood and total log-likelihood in this example, if we assume that the true release probability is 0.1?\n",
        "\n",
        "Of course, knowing those values of the likelihood and log-likelihood is not particularly useful until you can compare them to the values computed for other possible values for the release probability, so you can determine which value of release probability is most likely, given the data. Therefore, compute the full likelihood and log-likelihood functions using deciles of release probability between 0 and 1. What is the maximum value? Can you improve your estimate by computing the functions at a higher resolution? How does the estimate improve as you increase the sample size?"
      ]
    },
    {
      "cell_type": "code",
      "execution_count": null,
      "metadata": {
        "colab": {
          "base_uri": "https://localhost:8080/",
          "height": 294
        },
        "id": "iRgendseNKW_",
        "outputId": "c8ac1593-a856-4264-c171-49af9b7f582c"
      },
      "outputs": [
        {
          "name": "stdout",
          "output_type": "stream",
          "text": [
            "total probability = 1.24e-07, total log probability = -15.905\n"
          ]
        },
        {
          "data": {
            "image/png": "[encoded data removed]",
            "text/plain": [
              "<Figure size 432x288 with 1 Axes>"
            ]
          },
          "metadata": {
            "needs_background": "light"
          },
          "output_type": "display_data"
        },
        {
          "data": {
            "image/png": "[encoded data removed]",
            "text/plain": [
              "<Figure size 432x288 with 1 Axes>"
            ]
          },
          "metadata": {
            "needs_background": "light"
          },
          "output_type": "display_data"
        }
      ],
      "source": [
        "# Answer to Exercise 3\n",
        "# Likelihood and log-likelihood for sample size = 2, assumed pRelease=0.1\n",
        "n1 = 14             # Number of available quanta, experiment 1\n",
        "n2 = 14             # Number of available quanta, experiment 2\n",
        "k1 = 8              # Measured number of released experiment 1\n",
        "k2 = 5              # Measured number of released experiment 2\n",
        "pRelease = 0.1      # Assumed probability of release\n",
        "prob1 = binom.pmf(k1,n1,pRelease) # Probabilty of obtaining data 1 (k1) given n1, prelease\n",
        "prob2 = binom.pmf(k2,n2,pRelease) # Probabilty of obtaining data 2 (k2) given n2, prelease\n",
        "total_probability = prob1 * prob2 # Assume independence and compute product\n",
        "total_log_probability = np.log(prob1) + np.log(prob2) # Assume independence and compute sum\n",
        "print(f'total probability = {total_probability:.3}, total log probability = {total_log_probability:.3f}')\n",
        "\n",
        "# likelihood and log-likelihood functions for sample size = 2\n",
        "ps = np.arange(0.1, 0.9, 0.01)      # Array of possible release probabilities -- compute at a resolution of 0.01\n",
        "\n",
        "# Get value of the binomial distribution for each combination of k, n, p. The \n",
        "#   output is a matrix with two columns: 1) n1, k1  2) n2, k2. \n",
        "#   Rows are different values of p\n",
        "probs = binom.pmf(matlib.repmat([k1, k2], ps.size, 1), \n",
        "                  matlib.repmat([n1, n2], ps.size, 1), \n",
        "                  matlib.repmat(np.asmatrix(ps).T, 1, 2))\n",
        "\n",
        "# The likelihood function is the product of likelihoods (assuming independence)\n",
        "plt.subplot(211)\n",
        "plt.ylabel('Likelihood')\n",
        "likelihood_function = np.prod(probs,1)          # Compute the product for each row \n",
        "plt.plot(ps, likelihood_function)               # Plot it\n",
        "max_likelihood = np.amax(likelihood_function)   #  Get the maximum likelihood\n",
        "plt.plot(ps[likelihood_function==max_likelihood], max_likelihood, 'ko')\n",
        "plt.show()\n",
        "\n",
        "# The log-likelihood function is the sum of log-likelihoods (assuming independence)\n",
        "plt.subplot(212)\n",
        "plt.ylabel('Log-likelihood')\n",
        "log_likelihood_function = np.sum(np.log(probs),1); # Compute the sum for each row\n",
        "plt.plot(ps, log_likelihood_function)               # Plot it\n",
        "max_log_likelihood = np.amax(log_likelihood_function)      # Get the maximum likelihood\n",
        "plt.plot(ps[log_likelihood_function==max_log_likelihood], max_log_likelihood, 'ko')\n",
        "plt.show()"
      ]
    },
    {
      "cell_type": "code",
      "execution_count": null,
      "metadata": {
        "colab": {
          "base_uri": "https://localhost:8080/",
          "height": 676
        },
        "id": "pMqd8gCDQuif",
        "outputId": "2d42e0d6-d2d3-48d5-ee75-cbf999452cb5"
      },
      "outputs": [
        {
          "data": {
            "image/png": "[encoded data removed]",
            "text/plain": [
              "<Figure size 576x792 with 3 Axes>"
            ]
          },
          "metadata": {
            "needs_background": "light"
          },
          "output_type": "display_data"
        }
      ],
      "source": [
        "# Likelihood and log-likelihood functions for different sample sizes.\n",
        "\n",
        "# The code below will produce three plots that will update automatically for \n",
        "#   different sample sizes. You should see that as sample size increases, the \n",
        "#   ability to estimate the true value of the probability of release increases. \n",
        "#   You will also see an advantage of using log-likelihood over likelihood: as \n",
        "#   the number of samples increases, the total likelihood (the product of the \n",
        "#   likeilihoods associated with each measurement in the sample) eventually \n",
        "#   disappears, because Matlab can't handle the really small numbers (note that \n",
        "#   as the sample size increases, the number of all possible experimental \n",
        "#   outcomes you could measure gets really, really big, so the total likelihood \n",
        "#   of any GIVEN outcome gets really, really small). The three plots are:\n",
        "\n",
        "# TOP: normalized histogram of simulated experimental outcomes \n",
        "#   (i.e., simulated values of k for the given release probability and sample \n",
        "#   size), along with the theoretical binomial distribution\n",
        "\n",
        "# MIDDLE: likelihood function, p(simulated data | pRelease)\n",
        "#  Also shown are the maximum likelihood (peak of the likelihood function) \n",
        "#   determined directly from the plotted likelihood function plus the value \n",
        "#   (and 95% confidence intervals) computed using Matlab's \"binofit\" function \n",
        "#   fit to the simulated data, plus the value of pRelease used in the simulations.\n",
        "\n",
        "# BOTTOM: Same as in the middle panel, but using the log-likelihood function\n",
        "fig, axs = plt.subplots(3, 1, figsize=(8, 11))\n",
        "fig.subplots_adjust(hspace=0.4)\n",
        "\n",
        "n = 14                              # number of available quanta\n",
        "p_release = 0.3                      # assumed probability of release\n",
        "ks = np.arange(0, n)                # possible values of k\n",
        "ps = np.arange(0.01, 0.99, 0.01)    # possible release probabilities\n",
        "#pdat = zeros(length(ps), 2)  # pre-allocate matrix to hold likelihoods per p\n",
        "TINY = 0.0001                       # to avoid multiplying/taking logs of really small numbers\n",
        "for sample_size in np.logspace(0,3,30):  # try different sample sizes\n",
        "\n",
        "    # # Simulate experiments -- get simulated counts for the given n, pRelease, and number of experiments\n",
        "    simulated_counts = binom.rvs(n, p_release, size=int(np.round(sample_size)))\n",
        "\n",
        "    # Plot experiment, theoretical binomial pdf\n",
        "    plt.axes(axs[0]).cla()\n",
        "    plt.title(f'Sample size = {int(np.round(sample_size))}')\n",
        "    plt.ylabel('Probability')\n",
        "    plt.xlabel('Release count')\n",
        "    plt.xlim((ks[1], ks[-1]))\n",
        "\n",
        "    # Plot normalized histogram of simulated counts\n",
        "    plt.hist(simulated_counts, np.arange(-0.5, n+0.5, 1), density=True)\n",
        "\n",
        "    # Plot theoretical pdf\n",
        "    plt.plot(ks, binom.pmf(ks, n, p_release), 'ro-')\n",
        "\n",
        "    # compute (log) lik for each p\n",
        "    likelihoods = np.zeros((ps.size, 2))\n",
        "\n",
        "    # Loop through each possible value of release probability\n",
        "    for p_index, p_value in enumerate(ps):\n",
        "        \n",
        "        # Compute the probabilities of obtaining the data, given the assumed release probabilty\n",
        "        probs = binom.pmf(simulated_counts, n, p_value)\n",
        "        \n",
        "        # Avoid really small numbers\n",
        "        probs[probs<TINY] = TINY\n",
        "\n",
        "        # Save product of likelihoods and sum of log likelihoods\n",
        "        likelihoods[p_index, 0] = np.prod(probs)\n",
        "        likelihoods[p_index, 1] = np.sum(np.log(probs))\n",
        "\n",
        "    # Get the 95% onfidence intervals for the maximum likelihood binomial fit \n",
        "    #   value of p. This uses a trick that assumes all of the measurements are \n",
        "    #   independent and lumps them together as if they were one big experiment.\n",
        "    ci_low, ci_upp = proportion.proportion_confint(np.sum(simulated_counts), sample_size*n)\n",
        "\n",
        "    # Plot product of likelihoods\n",
        "    plt.axes(axs[1]).cla()\n",
        "    plt.ylabel('likelihood')\n",
        "\n",
        "    # Plot the likelihood function (product of likelihoods)\n",
        "    plt.plot(ps, likelihoods[:,0])\n",
        "\n",
        "    # Find the maximum\n",
        "    max_lik = np.max(likelihoods[:,0])\n",
        "\n",
        "    # Show the actual pRelease value as a dashed line\n",
        "    plt.plot([p_release, p_release], [0, max_lik], 'r--')\n",
        "\n",
        "    # Show the 95% confidence intervals from the fits \n",
        "    plt.plot([ci_low, ci_upp], [max_lik, max_lik], 'm-', linewidth=2)\n",
        "\n",
        "    # Show the maximum value of our computed likelihood function   \n",
        "    plt.plot(ps[np.atleast_1d(np.argmax(likelihoods[:,0]))[0]], max_lik, 'k*', markersize=12)\n",
        "\n",
        "    # plot sum of log-likelihoods\n",
        "    plt.axes(axs[2]).cla()\n",
        "    plt.ylabel('log likelihood')\n",
        "    plt.xlabel('Release probability')\n",
        "    # plt.axis((0, 1, np.log(TINY)*1000, 0))\n",
        "\n",
        "    # Plot the likelihood function (sum of log-likelihoods)\n",
        "    plt.plot(ps, likelihoods[:,1])\n",
        "\n",
        "    # Find the maximum\n",
        "    max_loglik = np.max(likelihoods[:,1])\n",
        "\n",
        "    # Show the actual pRelease value as a dashed line\n",
        "    plt.plot([p_release, p_release], [0, np.min(likelihoods[:,1])], 'r--')\n",
        "\n",
        "    # Show the 95% confidence intervals from the fits \n",
        "    plt.plot([ci_low, ci_upp], [max_lik, max_lik], 'm-', linewidth=2)\n",
        "\n",
        "    # Show the maximum value of our computed likelihood function\n",
        "    plt.plot(ps[np.atleast_1d(np.argmax(likelihoods[:,1]))[0]], max_loglik, 'k*', markersize=12)\n",
        "\n",
        "    # Clear for next plot\n",
        "    display(fig)\n",
        "    clear_output(wait=True)"
      ]
    },
    {
      "cell_type": "markdown",
      "metadata": {
        "id": "GCN6aNp1N0nC"
      },
      "source": [
        "## Exercise 4\n",
        "\n",
        "You keep going and conduct 100 separate experiments and end up with these results:\n",
        "\n",
        "Measured releases\t| Count\n",
        "---------------- | -------\n",
        "0 | 0\n",
        "1 | 0\n",
        "2 | 3\n",
        "4 | 10\n",
        "5 | 19\n",
        "6 | 26\n",
        "7 | 16\n",
        "8 | 16\n",
        "9 | 5\n",
        "10 | 5\n",
        "11 | 0\n",
        "12 | 0\n",
        "13 | 0\n",
        "14 | 0\n",
        "\n",
        "What is the most likely value of *p* (which we typically refer to as $\\hat{p}$, which is pronounced as \"p-hat\" and represents the maximum-likelihood estimate of a parameter in the population given our sample with a resolution of 0.01? \n",
        "\n",
        "BONUS: Use a fitting procedure to find $\\hat{p}$."
      ]
    },
    {
      "cell_type": "code",
      "execution_count": null,
      "metadata": {
        "colab": {
          "base_uri": "https://localhost:8080/"
        },
        "id": "o3JA1IHVS8YC",
        "outputId": "e7c76f75-c182-43e8-b040-9f6f7ca7ce60"
      },
      "outputs": [
        {
          "name": "stdout",
          "output_type": "stream",
          "text": [
            "p = 0.380 from likelihood, 0.380 from log-likelihood, 0.382 directly\n"
          ]
        }
      ],
      "source": [
        "# Answers to Exercise 4\n",
        "\n",
        "# Set up the experiment\n",
        "counts = [0, 0, 3, 10, 19, 26, 16, 16, 5, 5, 0, 0, 0, 0, 0] # The experimental outcomes\n",
        "n = len(counts)-1               # Number of available quanta in each experiment\n",
        "ks = np.arange(n+1)             # Possible values of k\n",
        "ps = np.arange(0, 1.01, 0.01)   # Possible values of release probability, as a column vector\n",
        "\n",
        "# Compute the value of the binomial distribution for each possible value of k, n, p. Make a matrix in which:\n",
        "#     - columns correspond to different values of p\n",
        "#     - rows correspond to different values of k\n",
        "probs = binom.pmf(matlib.repmat(ks, ps.size, 1), n, matlib.repmat(np.asmatrix(ps).T, 1, ks.size))\n",
        "\n",
        "# Make a matrix of outcomes (in rows) that are repeated along the columns so we can use them to compute likelihoods for each possible value of release probability (p)\n",
        "counts_matrix = matlib.repmat(counts, ps.size, 1)\n",
        "\n",
        "# Compute likelihood function, which takes the product of all likelihoods associated with each measured outcome. \n",
        "likelihood_fcn = np.prod(probs ** counts_matrix, axis=1)\n",
        "p_hat_from_liklihood = ps[np.argmax(likelihood_fcn)]\n",
        "\n",
        "# Compute log-likelihood function, which takes the sum of all log-likelihoods associated with each measured outcome.\n",
        "probs[probs<0.0001]=0.0001\n",
        "log_likelihood_fcn = np.sum(np.log(probs) * counts_matrix, axis=1)\n",
        "p_hat_from_log_likelihood = ps[np.argmax(log_likelihood_fcn)]\n",
        "\n",
        "# Compute p directly from the empirical data\n",
        "p_empirical = np.sum(counts*ks)/(np.sum(counts)*n)\n",
        "\n",
        "# Show the results\n",
        "print(f'p = {p_hat_from_liklihood:.3f} from likelihood, {p_hat_from_log_likelihood:.3f} from log-likelihood, {p_empirical:.3f} directly')"
      ]
    },
    {
      "cell_type": "markdown",
      "metadata": {
        "id": "9BZG29IBSo6E"
      },
      "source": [
        "## Exercise 5\n",
        "\n",
        "Let's say that you have run an exhaustive set of experiments on this synapse and have determined that the true release probability is 0.3 (within some very small tolerance). Now you want to test whether changing the temperature of the preparation affects the release probability. So you change the temperature, perform the experiment, and measure 7 quantal events for the same 14 available quanta. Compute $\\hat{p}$. Standard statistical inference now asks the question, what is the probability that you would have obtained that measurement given a Null Hypothesis of no effect? In this case, no effect corresponds to an unchanged value of the true release probability (i.e., its value remained at 0.3 even with the temperature change). What is the probability that you would have gotten that measurement if your Null Hypothesis were true? Can you conclude that temperature had an effect?"
      ]
    },
    {
      "cell_type": "code",
      "execution_count": null,
      "metadata": {
        "colab": {
          "base_uri": "https://localhost:8080/"
        },
        "id": "I8cmOtT7TK_C",
        "outputId": "634c5b1d-e34f-4085-90aa-7a0d39de7121"
      },
      "outputs": [
        {
          "name": "stdout",
          "output_type": "stream",
          "text": [
            "p value for the null hypothesis that p=0.3 = 0.0933\n"
          ]
        }
      ],
      "source": [
        "# Answer to Exercise 5\n",
        "n = 14               # Number of available quanta\n",
        "k = 7                # Measured number of released quanta\n",
        "p_hat = k/n           # Compute maximum-likelihood value of p\n",
        "p_null = 0.3;         #  Null hypothesis p\n",
        "\n",
        "# Get p-value for one-sided test that you would have gotten k or more successes in n trials for the given null hypothesis p\n",
        "p_value = st.binom_test(k, n, p_null, alternative='greater')    \n",
        "\n",
        "# Print result. Note that p>0.05, so cannot rule out that we would have gotten this measurement by chance under the null hypothesis\n",
        "print(f'p value for the null hypothesis that p={p_null:.1f} = {p_value:.4f}')"
      ]
    },
    {
      "cell_type": "markdown",
      "metadata": {
        "id": "UFYyaeLwTb35"
      },
      "source": [
        "## Bonus Exercise\n",
        "\n",
        "These data are reproduced from Tables 1 and 2 of Johnson and Wernig. Note that *nx* indicates the number of trials (\"release events\") with *x* measured events. Each row is a separate experiment (don't worry about the ordering, which here is reproduced as it is in the paper).\n",
        "\n",
        "Temp (°C)\t| n0\t| n1\t| n2\t| n3\t| n4\t| n5+\n",
        "--- | --| --- | --- | --- | --- | ---\n",
        "4.0\t| 615\t| 206\t| 33\t| 2\t| 0\t| 0\n",
        "3.5\t| 604\t| 339\t| 94\t| 11\t| 2\t| 0\n",
        "0.0 | \t332\t| 126\t| 21\t| 1\t| 0\t| 0\n",
        "2.0\t| 573\t| 443\t| 154\t| 28\t| 2\t| 0\n",
        "6.5\t| 172\t| 176\t| 89\t| 12\t| 1\t| 0\n",
        "3.0\t| 80\t| 224\t| 200\t| 32\t| 4\t| 0\n",
        "\n",
        "You can probably already see that some experiments resulted in primarily zero or one events per trial (e.g., the top experiment), whereas others tended to have more events (e.g., the bottom experiment).\n",
        "\n",
        "Do the quantal event numbers follow a binomial distribution? If so, then that would lend support to the idea that the events are generated by a process that can be characterized in terms of the number of available quanta and the average probability of release of each quantum.\n",
        "\n",
        "Provide a qualitative answer to this question by comparing the empirical distributions (see the data table, above) to the predicted binomial distribution. To get the predicted distribution (i.e., the probabilities associated with each value of *k* from Eq. 1, given the release probability p and the number of available quanta *n*), you need to determine both *k* and *n* from the empirical measurements. To determine *p*, use Eq. 5 in the paper: $p=1-\\frac{\\sigma ^{2}}{m}$\n",
        "\n",
        "where $\\sigma ^{2}$ is the variance and *m* is the mean of the trial-by-trial counts that can be determined from the data. To determine *n*, compute *m*/*p* (because *m* = *n* x *p*).\n",
        "\n",
        "As an added bonus, also include the predicted Poisson distribution, which can be computed using only the mean number of events (*m*, described above).\n",
        "\n"
      ]
    },
    {
      "cell_type": "code",
      "execution_count": null,
      "metadata": {
        "colab": {
          "base_uri": "https://localhost:8080/",
          "height": 467
        },
        "id": "0Ge6dc4FUwP_",
        "outputId": "fefb6c07-e86c-4f0a-f7a4-6b3bf2b4b3dc"
      },
      "outputs": [
        {
          "name": "stdout",
          "output_type": "stream",
          "text": [
            "row=0, goodness-of-fits, binomial p=0.992, Poisson p=0.950\n",
            "row=1, goodness-of-fits, binomial p=0.849, Poisson p=0.833\n",
            "row=2, goodness-of-fits, binomial p=0.999, Poisson p=0.891\n",
            "row=3, goodness-of-fits, binomial p=0.988, Poisson p=0.200\n",
            "row=4, goodness-of-fits, binomial p=0.760, Poisson p=0.015\n",
            "row=5, goodness-of-fits, binomial p=1.000, Poisson p=0.000\n"
          ]
        },
        {
          "data": {
            "image/png": "[encoded data removed]",
            "text/plain": [
              "<Figure size 1080x360 with 6 Axes>"
            ]
          },
          "metadata": {
            "needs_background": "light"
          },
          "output_type": "display_data"
        }
      ],
      "source": [
        "# Bonus exercise\n",
        "# Set up the figure\n",
        "fig = plt.figure(figsize=(15,5))\n",
        "# The data table\n",
        "data = np.asarray([\n",
        "   [4.0, 615, 206, 33,  2,  0, 0],\n",
        "   [3.5, 604, 339, 94,  11, 2, 0],\n",
        "   [0.0, 332, 126, 21,  1,  0, 0],\n",
        "   [2.0, 573, 443, 154, 28, 2, 0],\n",
        "   [6.5, 172, 176, 89,  12, 1, 0],\n",
        "   [3.0, 80,  224, 200, 32, 4, 0]])\n",
        "\n",
        "xs = np.arange(6) # x-axis\n",
        "\n",
        "# For each session\n",
        "for index, row in enumerate(data):\n",
        "\n",
        "    # Compute relevant variables\n",
        "    nx = row[1:]                  # the count data\n",
        "    N  = np.sum(nx)               # the total number of trials\n",
        "    m  = np.sum(nx[1:]*xs[1:])/N  # mean\n",
        "    v  = np.sum((xs-m)**2*nx)/N   # variance\n",
        "    p  = 1 - (v/m)                # release probabilty\n",
        "    n  = m/p                      # available quanta per trial\n",
        "\n",
        "    # Set up the plot\n",
        "    ax = plt.subplot(1, len(data), index+1)\n",
        "    plt.bar(xs+0.5, nx/N, facecolor='k')\n",
        "\n",
        "    # Compute the binomial probabilities according to the equations at the top of p. 762\n",
        "    binomial_counts = np.zeros(xs.size)\n",
        "    binomial_counts[0] = np.sum(nx)*(1-p)**n\n",
        "\n",
        "    for idx in np.arange(1, binomial_counts.size):\n",
        "        binomial_counts[idx] = binomial_counts[idx-1]*(m-p*(idx-1))/((idx)*(1-p))\n",
        "    binomial_counts = np.round(binomial_counts)\n",
        "\n",
        "    # Normalize for pdf and plot\n",
        "    plt.plot(xs+0.5, binomial_counts/np.sum(binomial_counts), 'ro-', markerfacecolor='r', linewidth=2)\n",
        "\n",
        "    # Get Possion pdf\n",
        "    pps = poisson.pmf(xs, m)\n",
        "    plt.plot(xs+0.5, pps, 'bo-', markerfacecolor='b', linewidth=2)\n",
        "\n",
        "    # Compute Chi-2 goodness-of-fit, k-1 degrees of freedom for binomial and Poisson\n",
        "    # For binomial, use a little cheat: assume all bins contribute even when binomialCounts=0 (because nx is always zero then, too)\n",
        "    with np.errstate(invalid='ignore', divide='ignore'):\n",
        "        pb = 1-chi2.cdf(np.nansum(np.divide((nx-binomial_counts)**2, binomial_counts)), binomial_counts.size-1)\n",
        "        poisson_counts = np.round(pps*N)\n",
        "        pp = 1-chi2.cdf(np.nansum(np.divide((nx-poisson_counts)**2, poisson_counts)), poisson_counts.size-1)\n",
        "    print(f'row={index}, goodness-of-fits, binomial p={pb:.3f}, Poisson p={pp:.3f}')\n",
        "\n",
        "    # Show titles,labels, legend\n",
        "    plt.axis([0, 6, 0, 1])\n",
        "    plt.title(f'Temp={row[0]:.1f}\\np={p:.2f}')\n",
        "    if index == 0:\n",
        "        plt.xlabel('Number of Events')\n",
        "        plt.ylabel('Probability')\n",
        "        plt.legend(('binomial', 'poisson', 'data'))\n",
        "    else:\n",
        "        ax.get_yaxis().set_ticks([])"
      ]
    },
    {
      "cell_type": "markdown",
      "metadata": {
        "id": "tteEm2Qlgbb3"
      },
      "source": [
        "# Credits\n",
        "\n",
        "Copyright 2021 by Joshua I. Gold, University of Pennsylvania"
      ]
    }
  ],
  "metadata": {
    "colab": {
      "collapsed_sections": [
        "GCN6aNp1N0nC",
        "9BZG29IBSo6E",
        "UFYyaeLwTb35"
      ],
      "provenance": []
    },
    "kernelspec": {
      "display_name": "Python 3",
      "name": "python3"
    },
    "language_info": {
      "name": "python"
    }
  },
  "nbformat": 4,
  "nbformat_minor": 0
}